{
 "cells": [
  {
   "cell_type": "markdown",
   "id": "650faacd",
   "metadata": {},
   "source": [
    "# Import Required Libraries\n",
    "Import libraries such as pandas, matplotlib, and yfinance for data handling, visualization, and fetching stock prices."
   ]
  },
  {
   "cell_type": "code",
   "execution_count": 13,
   "id": "982e215b",
   "metadata": {},
   "outputs": [],
   "source": [
    "# Import Required Libraries\n",
    "import pandas as pd\n",
    "import matplotlib.pyplot as plt\n",
    "import yfinance as yf"
   ]
  },
  {
   "cell_type": "markdown",
   "id": "08c9bc8d",
   "metadata": {},
   "source": [
    "# Define Stock Data\n",
    "Create a DataFrame containing the stock information, including nameOfIssuer, cusip, Ticker, and PositionSize."
   ]
  },
  {
   "cell_type": "code",
   "execution_count": 6,
   "id": "3ade0930",
   "metadata": {},
   "outputs": [
    {
     "name": "stdout",
     "output_type": "stream",
     "text": [
      "                  nameOfIssuer      cusip    Ticker PositionSize\n",
      "0                      CGI INC  12532H104  GIB-A.TO   $5,865,018\n",
      "1          ARISTA NETWORKS INC  040413205      ANET   $4,944,670\n",
      "2            EVEREST GROUP LTD  G3223R108        EG   $4,936,343\n",
      "3    ATOUR LIFESTYLE HLDGS LTD  04965M106      ATAT   $4,529,513\n",
      "4                 DOORDASH INC  25809K105      DASH   $4,263,198\n",
      "5                   GRINDR INC  39854F101      GRND   $4,169,386\n",
      "6                   COPART INC  217204106      CPRT   $3,686,274\n",
      "7                  STANTEC INC  85472N109    STN.TO   $3,321,573\n",
      "8  HANCOCK WHITNEY CORPORATION  410120109       HWC   $3,273,350\n",
      "9             MOVADO GROUP INC  624580106       MOV   $3,185,976\n"
     ]
    }
   ],
   "source": [
    "# Define Stock Data\n",
    "data = {\n",
    "    \"nameOfIssuer\": [\n",
    "        \"CGI INC\", \"ARISTA NETWORKS INC\", \"EVEREST GROUP LTD\", \n",
    "        \"ATOUR LIFESTYLE HLDGS LTD\", \"DOORDASH INC\", \"GRINDR INC\", \n",
    "        \"COPART INC\", \"STANTEC INC\", \"HANCOCK WHITNEY CORPORATION\", \"MOVADO GROUP INC\"\n",
    "    ],\n",
    "    \"cusip\": [\n",
    "        \"12532H104\", \"040413205\", \"G3223R108\", \"04965M106\", \n",
    "        \"25809K105\", \"39854F101\", \"217204106\", \"85472N109\", \n",
    "        \"410120109\", \"624580106\"\n",
    "    ],\n",
    "    \"Ticker\": [\"GIB-A.TO\", \"ANET\", \"EG\", \"ATAT\", \"DASH\", \"GRND\", \"CPRT\", \"STN.TO\", \"HWC\", \"MOV\"],\n",
    "    \"PositionSize\": [\n",
    "        \"$5,865,018\", \"$4,944,670\", \"$4,936,343\", \"$4,529,513\", \n",
    "        \"$4,263,198\", \"$4,169,386\", \"$3,686,274\", \"$3,321,573\", \n",
    "        \"$3,273,350\", \"$3,185,976\"\n",
    "    ]\n",
    "}\n",
    "\n",
    "df = pd.DataFrame(data)\n",
    "print(df)"
   ]
  },
  {
   "cell_type": "markdown",
   "id": "0167f5fc",
   "metadata": {},
   "source": [
    "# Fetch Stock Prices\n",
    "Use yfinance to fetch the closing prices of the specified tickers for the date range 2024-10-01 to 2024-12-31."
   ]
  },
  {
   "cell_type": "code",
   "execution_count": null,
   "id": "580a0157",
   "metadata": {},
   "outputs": [
    {
     "name": "stderr",
     "output_type": "stream",
     "text": [
      "[*********************100%***********************]  10 of 10 completed\n",
      "\n",
      "10 Failed downloads:\n",
      "['GIB-A.TO', 'EG', 'DASH', 'ATAT', 'GRND', 'ANET', 'CPRT', 'MOV', 'STN.TO', 'HWC']: YFRateLimitError('Too Many Requests. Rate limited. Try after a while.')\n",
      "[*********************100%***********************]  10 of 10 completed\n",
      "\n",
      "10 Failed downloads:\n",
      "['GIB-A.TO', 'EG', 'DASH', 'ATAT', 'GRND', 'ANET', 'CPRT', 'MOV', 'STN.TO', 'HWC']: YFRateLimitError('Too Many Requests. Rate limited. Try after a while.')\n"
     ]
    },
    {
     "name": "stdout",
     "output_type": "stream",
     "text": [
      "Empty DataFrame\n",
      "Columns: [ANET, ATAT, CPRT, DASH, EG, GIB-A.TO, GRND, HWC, MOV, STN.TO]\n",
      "Index: []\n"
     ]
    }
   ],
   "source": [
    "# Fetch Stock Prices with Daily Frequency\n",
    "tickers = df[\"Ticker\"].tolist()\n",
    "start_date = \"2024-10-01\"\n",
    "end_date = \"2024-12-31\"\n",
    "\n",
    "# Download stock data with daily frequency\n",
    "stock_data = yf.download(tickers, start=start_date, end=end_date, interval=\"1d\")[\"Adj Close\"]\n",
    "\n",
    "# Display the first few rows of the data\n",
    "print(stock_data.head())"
   ]
  },
  {
   "cell_type": "code",
   "execution_count": 15,
   "id": "8387bf70",
   "metadata": {},
   "outputs": [
    {
     "data": {
      "text/html": [
       "<div>\n",
       "<style scoped>\n",
       "    .dataframe tbody tr th:only-of-type {\n",
       "        vertical-align: middle;\n",
       "    }\n",
       "\n",
       "    .dataframe tbody tr th {\n",
       "        vertical-align: top;\n",
       "    }\n",
       "\n",
       "    .dataframe thead th {\n",
       "        text-align: right;\n",
       "    }\n",
       "</style>\n",
       "<table border=\"1\" class=\"dataframe\">\n",
       "  <thead>\n",
       "    <tr style=\"text-align: right;\">\n",
       "      <th>Ticker</th>\n",
       "      <th>ANET</th>\n",
       "      <th>ATAT</th>\n",
       "      <th>CPRT</th>\n",
       "      <th>DASH</th>\n",
       "      <th>EG</th>\n",
       "      <th>GIB-A.TO</th>\n",
       "      <th>GRND</th>\n",
       "      <th>HWC</th>\n",
       "      <th>MOV</th>\n",
       "      <th>STN.TO</th>\n",
       "    </tr>\n",
       "    <tr>\n",
       "      <th>Date</th>\n",
       "      <th></th>\n",
       "      <th></th>\n",
       "      <th></th>\n",
       "      <th></th>\n",
       "      <th></th>\n",
       "      <th></th>\n",
       "      <th></th>\n",
       "      <th></th>\n",
       "      <th></th>\n",
       "      <th></th>\n",
       "    </tr>\n",
       "  </thead>\n",
       "  <tbody>\n",
       "  </tbody>\n",
       "</table>\n",
       "</div>"
      ],
      "text/plain": [
       "Empty DataFrame\n",
       "Columns: [ANET, ATAT, CPRT, DASH, EG, GIB-A.TO, GRND, HWC, MOV, STN.TO]\n",
       "Index: []"
      ]
     },
     "execution_count": 15,
     "metadata": {},
     "output_type": "execute_result"
    }
   ],
   "source": [
    "stock_data.head()"
   ]
  },
  {
   "cell_type": "markdown",
   "id": "ae581536",
   "metadata": {},
   "source": [
    "# Plot Stock Prices\n",
    "Plot the closing prices as a line graph using matplotlib, labeling each line with the corresponding nameOfIssuer."
   ]
  },
  {
   "cell_type": "code",
   "execution_count": 11,
   "id": "9450ca78",
   "metadata": {},
   "outputs": [
    {
     "name": "stdout",
     "output_type": "stream",
     "text": [
      "No stock data available for the specified date range. Please check the tickers or date range.\n"
     ]
    }
   ],
   "source": [
    "# Check if stock_data is empty\n",
    "if stock_data.empty:\n",
    "    print(\"No stock data available for the specified date range. Please check the tickers or date range.\")\n",
    "else:\n",
    "    # Plot Stock Prices\n",
    "    plt.figure(figsize=(12, 6))\n",
    "    for ticker, issuer in zip(df[\"Ticker\"], df[\"nameOfIssuer\"]):\n",
    "        if ticker in stock_data.columns:\n",
    "            plt.plot(stock_data.index, stock_data[ticker], label=issuer)\n",
    "    plt.title(\"Stock Closing Prices (2024-10-01 to 2024-12-31)\")\n",
    "    plt.xlabel(\"Date\")\n",
    "    plt.ylabel(\"Closing Price (USD)\")\n",
    "    plt.legend()\n",
    "    plt.grid()\n",
    "    plt.show()"
   ]
  }
 ],
 "metadata": {
  "kernelspec": {
   "display_name": ".venv",
   "language": "python",
   "name": "python3"
  },
  "language_info": {
   "codemirror_mode": {
    "name": "ipython",
    "version": 3
   },
   "file_extension": ".py",
   "mimetype": "text/x-python",
   "name": "python",
   "nbconvert_exporter": "python",
   "pygments_lexer": "ipython3",
   "version": "3.10.11"
  }
 },
 "nbformat": 4,
 "nbformat_minor": 5
}
